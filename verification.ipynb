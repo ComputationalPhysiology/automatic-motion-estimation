{
 "cells": [
  {
   "cell_type": "markdown",
   "id": "eff57d6a-fce2-4a32-bf12-0347ee4e56b7",
   "metadata": {},
   "source": [
    "# Verification\n",
    "\n",
    "TBW"
   ]
  },
  {
   "cell_type": "code",
   "execution_count": null,
   "id": "2c103b56-c0a1-49d0-8ee8-ba0885614817",
   "metadata": {},
   "outputs": [],
   "source": []
  }
 ],
 "metadata": {
  "kernelspec": {
   "display_name": "Python 3 (ipykernel)",
   "language": "python",
   "name": "python3"
  },
  "language_info": {
   "codemirror_mode": {
    "name": "ipython",
    "version": 3
   },
   "file_extension": ".py",
   "mimetype": "text/x-python",
   "name": "python",
   "nbconvert_exporter": "python",
   "pygments_lexer": "ipython3",
   "version": "3.11.4"
  }
 },
 "nbformat": 4,
 "nbformat_minor": 5
}
