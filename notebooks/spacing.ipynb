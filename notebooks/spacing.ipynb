{
 "cells": [
  {
   "cell_type": "markdown",
   "id": "5b4ed12b-c34b-4ab0-821b-e40a8f72857d",
   "metadata": {},
   "source": [
    "# Image spacing\n",
    "\n",
    "TBW"
   ]
  },
  {
   "cell_type": "code",
   "execution_count": null,
   "id": "af0b0a05-4791-4fed-8e1a-763aff663fd1",
   "metadata": {},
   "outputs": [],
   "source": []
  }
 ],
 "metadata": {
  "kernelspec": {
   "display_name": "Python 3 (ipykernel)",
   "language": "python",
   "name": "python3"
  },
  "language_info": {
   "codemirror_mode": {
    "name": "ipython",
    "version": 3
   },
   "file_extension": ".py",
   "mimetype": "text/x-python",
   "name": "python",
   "nbconvert_exporter": "python",
   "pygments_lexer": "ipython3",
   "version": "3.11.4"
  }
 },
 "nbformat": 4,
 "nbformat_minor": 5
}
