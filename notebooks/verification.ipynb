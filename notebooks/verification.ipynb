{
 "cells": [
  {
   "cell_type": "markdown",
   "id": "eff57d6a-fce2-4a32-bf12-0347ee4e56b7",
   "metadata": {},
   "source": [
    "# Verification"
   ]
  },
  {
   "cell_type": "code",
   "execution_count": null,
   "id": "e7af344f",
   "metadata": {},
   "outputs": [],
   "source": [
    "import dataset\n",
    "import pprint"
   ]
  },
  {
   "cell_type": "markdown",
   "id": "d24940d2",
   "metadata": {},
   "source": [
    "First we will load Dataset 1 from the paper. Her you have the option to either use the full resolution dataset or a dataset that is downsampled. To speed up computations you can use the downsampled dataset"
   ]
  },
  {
   "cell_type": "code",
   "execution_count": null,
   "id": "24fd574f",
   "metadata": {},
   "outputs": [],
   "source": [
    "full_resolution = False\n",
    "data = dataset.load_sample_data(full_resolution=full_resolution)\n",
    "pprint.pprint(data.info)"
   ]
  },
  {
   "cell_type": "markdown",
   "id": "e0c259cc",
   "metadata": {},
   "source": [
    "We can now extract the first frame from the dataset which will be used in the verification. "
   ]
  },
  {
   "cell_type": "code",
   "execution_count": null,
   "id": "2c103b56-c0a1-49d0-8ee8-ba0885614817",
   "metadata": {},
   "outputs": [],
   "source": [
    "frame = data.frames[:, :, 0].T\n",
    "frame"
   ]
  },
  {
   "cell_type": "markdown",
   "id": "37b68e60",
   "metadata": {},
   "source": [
    "As we can see, the frame is just a regular numpy array with 16 bit unsigned integers.\n",
    "\n",
    "Now let us plot the first frame"
   ]
  },
  {
   "cell_type": "code",
   "execution_count": null,
   "id": "069207fb",
   "metadata": {},
   "outputs": [],
   "source": [
    "import matplotlib.pyplot as plt\n",
    "plt.imshow(frame, cmap='gray')"
   ]
  },
  {
   "cell_type": "markdown",
   "id": "d8aef9df",
   "metadata": {},
   "source": [
    "For the verification we will only use a small region of the frame which we can plot as follows"
   ]
  },
  {
   "cell_type": "code",
   "execution_count": null,
   "id": "7212f1a9",
   "metadata": {},
   "outputs": [],
   "source": [
    "def extract_region(frame, full_resolution):\n",
    "    offset = 100 if full_resolution else 30\n",
    "    n1, n2 = frame.shape\n",
    "    x1 = n1 // 2 - offset\n",
    "    x2 = n1 // 2 + offset\n",
    "    y1 = n2 // 2 - 2 * offset\n",
    "    y2 = n2 // 2 + 2 * offset\n",
    "    return frame[x1:x2, y1:y2]\n",
    "\n",
    "def plot_frame_with_region(frame, full_resolution):\n",
    "    offset = 100 if full_resolution else 30\n",
    "\n",
    "\n",
    "    fig, ax = plt.subplots(1, 2, figsize=(7, 2))\n",
    "    ax[0].imshow(frame)\n",
    "\n",
    "    n1, n2 = frame.shape\n",
    "    x1 = n1 // 2 - offset\n",
    "    x2 = n1 // 2 + offset\n",
    "    y1 = n2 // 2 - 2 * offset\n",
    "    y2 = n2 // 2 + 2 * offset\n",
    "    ax[0].plot([y1, y2], [x1, x1], \"r\")\n",
    "    ax[0].plot([y1, y2], [x2, x2], \"r\")\n",
    "    ax[0].plot([y1, y1], [x1, x2], \"r\")\n",
    "    ax[0].plot([y2, y2], [x1, x2], \"r\")\n",
    "    ax[1].imshow(frame[x1:x2, y1:y2])\n",
    "    for axi in ax:\n",
    "        axi.axis(\"off\")\n",
    "    plt.show()\n",
    "\n",
    "plot_frame_with_region(frame, full_resolution)"
   ]
  },
  {
   "cell_type": "code",
   "execution_count": null,
   "id": "63db4d5b",
   "metadata": {},
   "outputs": [],
   "source": [
    "region = extract_region(frame, full_resolution)\n",
    "region"
   ]
  },
  {
   "cell_type": "markdown",
   "id": "3f0546ea",
   "metadata": {},
   "source": [
    "We will now go ahead and run the verification using a synthetic function. First we will import some necessary libraries, including `mps-motion`"
   ]
  },
  {
   "cell_type": "code",
   "execution_count": null,
   "id": "695aad35",
   "metadata": {},
   "outputs": [],
   "source": [
    "from pathlib import Path\n",
    "from mps_motion import farneback, lucas_kanade, block_matching, dualtvl1\n",
    "import dask.array as da\n",
    "from scipy.ndimage import geometric_transform\n",
    "import numpy as np\n",
    "import time\n",
    "import json"
   ]
  },
  {
   "cell_type": "markdown",
   "id": "eeea3146",
   "metadata": {},
   "source": [
    "Now we will define the synthetic function which is\n",
    "\n",
    "$$\n",
    "f = f(x, y; a, b) = \\begin{pmatrix}\n",
    "        a x \\\\\n",
    "        b y\n",
    "    \\end{pmatrix}\n",
    "$$"
   ]
  },
  {
   "cell_type": "code",
   "execution_count": null,
   "id": "110b7d14",
   "metadata": {},
   "outputs": [],
   "source": [
    "def get_func(a=0.001, b=0):\n",
    "    def func(x):\n",
    "        return (x[0] * (1 - a), x[1] * (1 - b))\n",
    "\n",
    "    return func"
   ]
  },
  {
   "cell_type": "markdown",
   "id": "a5bb6404",
   "metadata": {},
   "source": [
    "We will use the parameters $(a, b) \\in \\{ (0.005, 0.0), (0.0, 0.007), (0.005, 0.007) \\}$, so we put those into a dictionary"
   ]
  },
  {
   "cell_type": "code",
   "execution_count": null,
   "id": "e1205fd2",
   "metadata": {},
   "outputs": [],
   "source": [
    "displacement_parameters = {\n",
    "    \"x\": {\"a\": 0.005, \"b\": 0.0},\n",
    "    \"y\": {\"a\": 0.0, \"b\": 0.007},\n",
    "    \"xy\": {\"a\": 0.005, \"b\": 0.007},\n",
    "}"
   ]
  },
  {
   "cell_type": "markdown",
   "id": "b51a15b0",
   "metadata": {},
   "source": [
    "Now we create new directory where we will store the results"
   ]
  },
  {
   "cell_type": "code",
   "execution_count": null,
   "id": "35a11a78",
   "metadata": {},
   "outputs": [],
   "source": [
    "results = Path(\"results\") / \"verification\"\n",
    "results.mkdir(exist_ok=True, parents=True)"
   ]
  },
  {
   "cell_type": "markdown",
   "id": "0bebbe33",
   "metadata": {},
   "source": [
    "And then we run the 10 times and code keep the average time"
   ]
  },
  {
   "cell_type": "code",
   "execution_count": null,
   "id": "2b6a08dd",
   "metadata": {},
   "outputs": [],
   "source": [
    "timings = {}\n",
    "N = 10\n",
    "\n",
    "for flow, name, kwargs in [\n",
    "    (farneback.flow, \"farneback\", {}),\n",
    "    (lucas_kanade.flow, \"lucas_kanade\", {}),\n",
    "    (block_matching.flow, \"block_matching\", {}),\n",
    "    (dualtvl1.flow, \"dualtvl1\", {}),\n",
    "]:\n",
    "\n",
    "    print(name)\n",
    "    timings[name] = {}\n",
    "    for direction in [\"x\", \"y\", \"xy\"]:\n",
    "        path = results / f\"{direction}_displacement_{name}.npy\"\n",
    "        a = displacement_parameters[direction][\"a\"]\n",
    "        b = displacement_parameters[direction][\"b\"]\n",
    "        print(f\"{direction} displacement\")\n",
    "\n",
    "        frame2 = geometric_transform(region.T, get_func(a, b)).T\n",
    "\n",
    "        t0 = time.perf_counter()\n",
    "        for _ in range(N):\n",
    "            u = flow(frame2, region, **kwargs)\n",
    "        timings[name][direction] = (time.perf_counter() - t0) / N\n",
    "\n",
    "        if isinstance(u, da.Array):\n",
    "            u = u.compute()\n",
    "        np.save(path, u)\n",
    "    path.with_name(\"timings\").with_suffix(\".json\").write_text(json.dumps(timings))"
   ]
  },
  {
   "cell_type": "markdown",
   "id": "b119b29f",
   "metadata": {},
   "source": [
    "Now we will plot the timings and errors"
   ]
  },
  {
   "cell_type": "code",
   "execution_count": null,
   "id": "4efbe654",
   "metadata": {},
   "outputs": [],
   "source": [
    "algs = [\"farneback\", \"lucas_kanade\", \"block_matching\", \"dualtvl1\"]\n",
    "cases = [\"x\", \"y\", \"xy\"]\n",
    "path = results / \"timings.json\"\n",
    "timings = json.loads(path.read_text())\n",
    "x, y = np.meshgrid(np.arange(region.shape[1]), np.arange(region.shape[0]))\n",
    "\n",
    "all_errors = []\n",
    "\n",
    "for i, alg in enumerate(algs):\n",
    "    errs = []\n",
    "    for j, disp in enumerate(cases):\n",
    "        U = np.load(results / f\"{disp}_displacement_{alg}.npy\")\n",
    "        u = U[:, :, 0]\n",
    "        v = U[:, :, 1]\n",
    "\n",
    "        a = displacement_parameters[disp][\"a\"]\n",
    "        b = displacement_parameters[disp][\"b\"]\n",
    "\n",
    "        func = get_func(a, b)\n",
    "        u0, v0 = func([x, y])\n",
    "        u_exact = x - u0\n",
    "        v_exact = y - v0\n",
    "        errs.append(\n",
    "            np.linalg.norm([u - u_exact, v - v_exact])\n",
    "            / np.linalg.norm([u_exact, v_exact])\n",
    "        )\n",
    "    all_errors.append(errs)\n",
    "\n",
    "all_errors = np.array(all_errors)\n",
    "width = 0.2\n",
    "x = np.arange(len(algs))\n",
    "fig, ax = plt.subplots()\n",
    "rectsy = ax.bar(\n",
    "    x - width,\n",
    "    all_errors.T[0],\n",
    "    width=width,\n",
    "    align=\"center\",\n",
    "    label=\"y\",\n",
    ")\n",
    "rectsx = ax.bar(\n",
    "    x,\n",
    "    all_errors.T[1],\n",
    "    width=width,\n",
    "    align=\"center\",\n",
    "    label=\"x\",\n",
    ")\n",
    "rectsxy = ax.bar(\n",
    "    x + width,\n",
    "    all_errors.T[2],\n",
    "    width=width,\n",
    "    align=\"center\",\n",
    "    label=\"xy\",\n",
    ")\n",
    "ax.set_xticks(x)\n",
    "ax.set_xticklabels([\" \".join(alg.split(\"_\")) for alg in algs])  # , rotation=30)\n",
    "ax.legend()\n",
    "ax.set_xlabel(\"Algorithm\")\n",
    "ax.set_yscale(\"log\")\n",
    "ax.set_ylabel(r\"$\\| u - u^* \\| / \\| u^* \\|$\")\n",
    "\n",
    "for label, rects in [(\"x\", rectsx)]:  # , (\"y\", rectsy), (\"xy\", rectsxy)]:\n",
    "    for text, rect in zip([timings[alg][label] for alg in algs], rects):\n",
    "        height = rect.get_height()\n",
    "        ax.text(\n",
    "            rect.get_x() + rect.get_width() / 2.0,\n",
    "            1.05 * height,\n",
    "            f\"{text:.3f}\",\n",
    "            ha=\"center\",\n",
    "            va=\"bottom\",\n",
    "        )\n",
    "ax.set_ylim(1e-2, 10)"
   ]
  },
  {
   "cell_type": "markdown",
   "id": "b625aefa",
   "metadata": {},
   "source": [
    "And finally the resulting motion vectors"
   ]
  },
  {
   "cell_type": "code",
   "execution_count": null,
   "id": "5f8151a3",
   "metadata": {},
   "outputs": [],
   "source": [
    "fig, ax = plt.subplots(3, 4, figsize=(9, 6), sharex=True, sharey=True)\n",
    "\n",
    "algs = [\"farneback\", \"lucas_kanade\", \"block_matching\", \"dualtvl1\"]\n",
    "\n",
    "x, y = np.meshgrid(np.arange(region.shape[1]), np.arange(region.shape[0]))\n",
    "for i, alg in enumerate(algs):\n",
    "\n",
    "    for j, disp in enumerate([\"x\", \"y\", \"xy\"]):\n",
    "        U = np.load(results / f\"{disp}_displacement_{alg}.npy\")\n",
    "        u = U[:, :, 0]\n",
    "        v = U[:, :, 1]\n",
    "\n",
    "        a = displacement_parameters[disp][\"a\"]\n",
    "        b = displacement_parameters[disp][\"b\"]\n",
    "\n",
    "        func = get_func(a, b)\n",
    "        u0, v0 = func([x, y])\n",
    "\n",
    "        axi = ax[j, i]\n",
    "        axi.streamplot(\n",
    "            x,\n",
    "            y,\n",
    "            u,\n",
    "            v,\n",
    "            color=\"r\",\n",
    "            density=0.3,\n",
    "            linewidth=1.0,\n",
    "            arrowstyle=\"-|>\",\n",
    "        )\n",
    "\n",
    "        axi.streamplot(\n",
    "            x,\n",
    "            y,\n",
    "            x - u0,\n",
    "            y - v0,\n",
    "            color=\"b\",\n",
    "            density=0.3,\n",
    "            linewidth=0.8,\n",
    "            arrowstyle=\"-\",\n",
    "        )\n",
    "\n",
    "        if i == 0:\n",
    "            axi.set_ylabel(disp)\n",
    "        if j == 0:\n",
    "            axi.set_title(\" \".join(alg.split(\"_\")))\n",
    "        axi.set_xticks([])\n",
    "        axi.set_yticks([])\n"
   ]
  }
 ],
 "metadata": {
  "kernelspec": {
   "display_name": "Python 3 (ipykernel)",
   "language": "python",
   "name": "python3"
  },
  "language_info": {
   "codemirror_mode": {
    "name": "ipython",
    "version": 3
   },
   "file_extension": ".py",
   "mimetype": "text/x-python",
   "name": "python",
   "nbconvert_exporter": "python",
   "pygments_lexer": "ipython3",
   "version": "3.11.4"
  }
 },
 "nbformat": 4,
 "nbformat_minor": 5
}
