{
 "cells": [
  {
   "cell_type": "markdown",
   "id": "9a9582b3-1f63-4554-93f1-c8c946d6502d",
   "metadata": {},
   "source": [
    "# Filtering\n",
    "\n",
    "In this notebooks we will explore the effect of filtering resulting motion vectors.\n",
    "\n",
    "When running the optical flow algorithm to estimate displacement, we find the displacement at each pixel in the image. Some pixels are located in regions without cells we will therefore have very low displacements. However, noise and drift in the images can still give artificial velocity vectors in these pixels.\n",
    "\n",
    "Displacement vectors that does not contains cells should therefore be filtered out, and we can do so by creating a mask that contains pixels with a significant high displacement.\n",
    "\n",
    "Let us load the sample dataset and show what we mean"
   ]
  },
  {
   "cell_type": "code",
   "execution_count": null,
   "id": "8c736063-e22d-4cac-8665-91af7565a47a",
   "metadata": {},
   "outputs": [],
   "source": [
    "import dataset\n",
    "import mps_motion\n",
    "import matplotlib.pyplot as plt\n",
    "\n",
    "full_resolution = False\n",
    "data = dataset.load_sample_data(full_resolution=full_resolution)"
   ]
  },
  {
   "cell_type": "markdown",
   "id": "90157844",
   "metadata": {},
   "source": [
    "Now, let us rus the optical flow algorithm to find the displacements"
   ]
  },
  {
   "cell_type": "code",
   "execution_count": null,
   "id": "c6dbf9ed",
   "metadata": {},
   "outputs": [],
   "source": [
    "opt_flow = mps_motion.OpticalFlow(data, flow_algorithm=\"farneback\")\n",
    "u = opt_flow.get_displacements()"
   ]
  },
  {
   "cell_type": "markdown",
   "id": "0f647b41",
   "metadata": {},
   "source": [
    "Now let ut compute the maximum displacement norm for each pixel"
   ]
  },
  {
   "cell_type": "code",
   "execution_count": null,
   "id": "969101fe",
   "metadata": {},
   "outputs": [],
   "source": [
    "u_norm_max = u.norm().max().compute()"
   ]
  },
  {
   "cell_type": "code",
   "execution_count": null,
   "id": "c79cf2ea",
   "metadata": {},
   "outputs": [],
   "source": [
    "fig, ax = plt.subplots(1, 2)\n",
    "im = ax[0].imshow(u_norm_max, cmap=\"hot\")\n",
    "fig.colorbar(im, ax=ax[0])\n",
    "ax[1].imshow(data.frames[:, :, 0], cmap=\"gray\")\n",
    "plt.show()"
   ]
  },
  {
   "cell_type": "markdown",
   "id": "5a5b11ce",
   "metadata": {},
   "source": [
    "As we can see, some regions without cells have very low displacements. This also includes that pilars."
   ]
  },
  {
   "cell_type": "markdown",
   "id": "003ffe7e",
   "metadata": {},
   "source": [
    "Now let us zoom in at the lower left corner of the image, where we have the fenestrations. These pixels does not contain any cells so these pixels should have zero displacement"
   ]
  },
  {
   "cell_type": "code",
   "execution_count": null,
   "id": "9e7ff7ae",
   "metadata": {},
   "outputs": [],
   "source": [
    "fig, ax = plt.subplots(1, 2)\n",
    "im = ax[0].imshow(u_norm_max[500:, :50], cmap=\"hot\", vmin=0, vmax=0.25)\n",
    "fig.colorbar(im, ax=ax[0])\n",
    "ax[1].imshow(data.frames[500:, :50, 0], cmap=\"gray\")\n",
    "plt.show()"
   ]
  },
  {
   "cell_type": "markdown",
   "id": "a8e4c91c",
   "metadata": {},
   "source": [
    "However, we see that displacement are not zero, but slightly positive. For reference let us also compute the average trace over time"
   ]
  },
  {
   "cell_type": "code",
   "execution_count": null,
   "id": "bd39fd3f",
   "metadata": {},
   "outputs": [],
   "source": [
    "u_norm_mean = u.norm().mean().compute()\n",
    "fig, ax = plt.subplots()\n",
    "ax.plot(data.time_stamps, u_norm_mean)\n",
    "plt.show()"
   ]
  },
  {
   "cell_type": "markdown",
   "id": "ba44c744",
   "metadata": {},
   "source": [
    "Now let ut do the same with the velocity"
   ]
  },
  {
   "cell_type": "code",
   "execution_count": null,
   "id": "487497dd",
   "metadata": {},
   "outputs": [],
   "source": [
    "# We multiply be 1000 to convert from um/ms to um/s\n",
    "v = opt_flow.get_velocities() * 1000\n",
    "v_norm_max = v.norm().max().compute()"
   ]
  },
  {
   "cell_type": "code",
   "execution_count": null,
   "id": "347c2008",
   "metadata": {},
   "outputs": [],
   "source": [
    "fig, ax = plt.subplots(1, 2)\n",
    "im = ax[0].imshow(v_norm_max, cmap=\"hot\")\n",
    "fig.colorbar(im, ax=ax[0])\n",
    "ax[1].imshow(data.frames[:, :, 0], cmap=\"gray\")\n",
    "plt.show()"
   ]
  },
  {
   "cell_type": "code",
   "execution_count": null,
   "id": "b2f53df3",
   "metadata": {},
   "outputs": [],
   "source": [
    "fig, ax = plt.subplots(1, 2)\n",
    "im = ax[0].imshow(v_norm_max[500:, :50], cmap=\"hot\", vmin=0, vmax=10)\n",
    "fig.colorbar(im, ax=ax[0])\n",
    "ax[1].imshow(data.frames[500:, :50, 0], cmap=\"gray\")\n",
    "plt.show()"
   ]
  },
  {
   "cell_type": "markdown",
   "id": "48e310e8",
   "metadata": {},
   "source": [
    "And we can see that this effect is amplified in the velocities. Let us compute the average trace over time"
   ]
  },
  {
   "cell_type": "code",
   "execution_count": null,
   "id": "e655799d",
   "metadata": {},
   "outputs": [],
   "source": [
    "v_norm_mean = v.norm().mean().compute()\n",
    "fig, ax = plt.subplots()\n",
    "ax.plot(data.time_stamps[:-1], v_norm_mean)\n",
    "plt.show()"
   ]
  },
  {
   "cell_type": "markdown",
   "id": "b2b26706",
   "metadata": {},
   "source": [
    "What we can do, is to create a mask where pixels with low displacements are excluded. For simplicity let us exclude all pixels that have a lower value than the mean displacements"
   ]
  },
  {
   "cell_type": "code",
   "execution_count": null,
   "id": "0b1b771e",
   "metadata": {},
   "outputs": [],
   "source": [
    "mask = u_norm_max < u_norm_max.mean()\n",
    "\n",
    "fig, ax = plt.subplots()\n",
    "ax.imshow(data.frames[:, :, 0], cmap=\"gray\")\n",
    "ax.imshow(mask, alpha=0.5)\n",
    "plt.show()\n"
   ]
  },
  {
   "cell_type": "markdown",
   "id": "0c04a129",
   "metadata": {},
   "source": [
    "Now let us apply this mask to `u` and `v` and repeat the process"
   ]
  },
  {
   "cell_type": "code",
   "execution_count": null,
   "id": "254b9bfe",
   "metadata": {},
   "outputs": [],
   "source": [
    "u.apply_mask(mask)\n",
    "v.apply_mask(mask)"
   ]
  },
  {
   "cell_type": "code",
   "execution_count": null,
   "id": "803ab624",
   "metadata": {},
   "outputs": [],
   "source": [
    "u_filtered_norm_max = u.norm().max().compute()\n",
    "\n",
    "fig, ax = plt.subplots(2, 2)\n",
    "im = ax[0, 0].imshow(u_filtered_norm_max, cmap=\"hot\")\n",
    "fig.colorbar(im, ax=ax[0, 0])\n",
    "ax[0, 1].imshow(data.frames[:, :, 0], cmap=\"gray\")\n",
    "im = ax[1, 0].imshow(u_filtered_norm_max[500:, :50], cmap=\"hot\", vmin=0, vmax=0.25)\n",
    "fig.colorbar(im, ax=ax[1, 0])\n",
    "ax[1, 1].imshow(data.frames[500:, :50, 0], cmap=\"gray\")\n",
    "plt.show()"
   ]
  },
  {
   "cell_type": "code",
   "execution_count": null,
   "id": "70235187",
   "metadata": {},
   "outputs": [],
   "source": [
    "u_filtered_norm_mean = u.norm().mean().compute()\n",
    "fig, ax = plt.subplots()\n",
    "ax.plot(data.time_stamps, u_norm_mean, label=\"Original\")\n",
    "ax.plot(data.time_stamps, u_filtered_norm_mean, label=\"Filtered\")\n",
    "ax.legend()\n",
    "plt.show()"
   ]
  },
  {
   "cell_type": "markdown",
   "id": "f9318946",
   "metadata": {},
   "source": [
    "And for the velocity "
   ]
  },
  {
   "cell_type": "code",
   "execution_count": null,
   "id": "15a52b46",
   "metadata": {},
   "outputs": [],
   "source": [
    "v_filtered_norm_max = v.norm().max().compute()\n",
    "\n",
    "fig, ax = plt.subplots(2, 2)\n",
    "im = ax[0, 0].imshow(v_filtered_norm_max, cmap=\"hot\")\n",
    "fig.colorbar(im, ax=ax[0, 0])\n",
    "ax[0, 1].imshow(data.frames[:, :, 0], cmap=\"gray\")\n",
    "im = ax[1, 0].imshow(v_filtered_norm_max[500:, :50], cmap=\"hot\", vmin=0, vmax=15)\n",
    "fig.colorbar(im, ax=ax[1, 0])\n",
    "ax[1, 1].imshow(data.frames[500:, :50, 0], cmap=\"gray\")\n",
    "plt.show()"
   ]
  },
  {
   "cell_type": "code",
   "execution_count": null,
   "id": "f8eafadb",
   "metadata": {},
   "outputs": [],
   "source": [
    "v_filtered_norm_mean = v.norm().mean().compute()\n",
    "fig, ax = plt.subplots()\n",
    "ax.plot(data.time_stamps[:-1], v_norm_mean, label=\"Original\")\n",
    "ax.plot(data.time_stamps[:-1], v_filtered_norm_mean, label=\"Filtered\")\n",
    "ax.legend()\n",
    "plt.show()"
   ]
  }
 ],
 "metadata": {
  "kernelspec": {
   "display_name": "Python 3 (ipykernel)",
   "language": "python",
   "name": "python3"
  },
  "language_info": {
   "codemirror_mode": {
    "name": "ipython",
    "version": 3
   },
   "file_extension": ".py",
   "mimetype": "text/x-python",
   "name": "python",
   "nbconvert_exporter": "python",
   "pygments_lexer": "ipython3",
   "version": "3.11.4"
  }
 },
 "nbformat": 4,
 "nbformat_minor": 5
}
