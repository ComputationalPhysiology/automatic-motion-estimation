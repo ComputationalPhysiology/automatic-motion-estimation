{
 "cells": [
  {
   "cell_type": "markdown",
   "id": "73aea1b6-20ac-48f9-98a5-eca27f6e4ada",
   "metadata": {},
   "source": [
    "# Mean traces\n",
    "\n",
    "In this notebook we will reproduce part of Figure 2 in the paper which compted the average displacement and velocity and performs a background correction of the traces.\n",
    "First we import the necessary packages"
   ]
  },
  {
   "cell_type": "code",
   "execution_count": null,
   "id": "f35db8a5-0cbb-4963-bfda-e52093584ac1",
   "metadata": {},
   "outputs": [],
   "source": [
    "import matplotlib.pyplot as plt\n",
    "from pathlib import Path\n",
    "import ap_features as apf\n",
    "import numpy as np\n",
    "import mps\n",
    "import mps_motion\n",
    "from mps_motion import (\n",
    "    Mechanics,\n",
    "    OpticalFlow,\n",
    ")\n",
    "\n",
    "\n",
    "import dataset"
   ]
  },
  {
   "cell_type": "markdown",
   "id": "93827160",
   "metadata": {},
   "source": [
    "And load the sample dataset"
   ]
  },
  {
   "cell_type": "code",
   "execution_count": null,
   "id": "a7c87ef3",
   "metadata": {},
   "outputs": [],
   "source": [
    "full_resolution = False\n",
    "data = dataset.load_sample_data(full_resolution=full_resolution)"
   ]
  },
  {
   "cell_type": "markdown",
   "id": "cea61b72",
   "metadata": {},
   "source": [
    "Next we will create an optical flow object and specify that we want to use the Farnebäck method"
   ]
  },
  {
   "cell_type": "code",
   "execution_count": null,
   "id": "a8f9d43c",
   "metadata": {},
   "outputs": [],
   "source": [
    "opt_flow = mps_motion.OpticalFlow(data, flow_algorithm=\"farneback\")"
   ]
  },
  {
   "cell_type": "markdown",
   "id": "554a49e2",
   "metadata": {},
   "source": [
    "Now we will compute the displacements"
   ]
  },
  {
   "cell_type": "code",
   "execution_count": null,
   "id": "282d5108",
   "metadata": {},
   "outputs": [],
   "source": [
    "u = opt_flow.get_displacements()"
   ]
  },
  {
   "cell_type": "markdown",
   "id": "0542d7de",
   "metadata": {},
   "source": [
    "Lets us inspect the object we got back first"
   ]
  },
  {
   "cell_type": "code",
   "execution_count": null,
   "id": "b630f940",
   "metadata": {},
   "outputs": [],
   "source": [
    "u"
   ]
  },
  {
   "cell_type": "markdown",
   "id": "04b94bc0",
   "metadata": {},
   "source": [
    "We see that we got a `VectorFrameSequence`, which is essentially a sequence of frames with a vector, representing the x and y component of the displacement at each point. To convert this into a trace we need to reduce it along some dimension. For example, we could take the norm at each pixel"
   ]
  },
  {
   "cell_type": "code",
   "execution_count": null,
   "id": "35ed1d67",
   "metadata": {},
   "outputs": [],
   "source": [
    "u_norm = u.norm()\n",
    "u_norm"
   ]
  },
  {
   "cell_type": "markdown",
   "id": "190a3403",
   "metadata": {},
   "source": [
    "Which gives us a `FrameSequence`, i.e a sequence of frames with a scalar value at each pixel. Next thing we will do is to reduce each frame to a number, and we can do this by takeing the average value"
   ]
  },
  {
   "cell_type": "code",
   "execution_count": null,
   "id": "5e22baf7",
   "metadata": {},
   "outputs": [],
   "source": [
    "u_norm_mean = u_norm.mean()\n",
    "u_norm_mean"
   ]
  },
  {
   "cell_type": "markdown",
   "id": "f34e945c",
   "metadata": {},
   "source": [
    "As we can see we get a [`dask` array](https://docs.dask.org/en/stable/array.html) back. These are similar to numpy array, but much more memory efficient and we can also perform operations on them in parallel. To get the actual value, we need to call compute."
   ]
  },
  {
   "cell_type": "code",
   "execution_count": null,
   "id": "be82adde",
   "metadata": {},
   "outputs": [],
   "source": [
    "u_norm_mean_array = u_norm_mean.compute()\n",
    "u_norm_mean_array"
   ]
  },
  {
   "cell_type": "markdown",
   "id": "905f6e50",
   "metadata": {},
   "source": [
    "We can now plot the array"
   ]
  },
  {
   "cell_type": "code",
   "execution_count": null,
   "id": "1d869ff9",
   "metadata": {},
   "outputs": [],
   "source": [
    "fig, ax = plt.subplots()\n",
    "ax.plot(data.time_stamps, u_norm_mean_array)\n",
    "ax.set_xlabel(\"Time (s)\")\n",
    "ax.set_ylabel(\"Displacement (\\u00B5m)\")\n",
    "plt.show()"
   ]
  },
  {
   "cell_type": "markdown",
   "id": "c0f83dee",
   "metadata": {},
   "source": [
    "Note that in this case we didn't specify which frame to use as the reference frame, which means that it will use the first frame. This turns out to work well in this case, but image we for example had chosen frame at time 500 ms (which is approximately at the peak contraction), then we would get"
   ]
  },
  {
   "cell_type": "code",
   "execution_count": null,
   "id": "cc8fbf7b",
   "metadata": {},
   "outputs": [],
   "source": [
    "u_20 = opt_flow.get_displacements(reference_frame=500, recompute=True)\n",
    "u_20_array = u_20.norm().mean().compute()\n",
    "fig, ax = plt.subplots()\n",
    "ax.plot(data.time_stamps, u_20_array)\n",
    "ax.set_ylabel(\"Displacement (\\u00B5m)\")\n",
    "ax.set_xlabel(\"Time (s)\")\n",
    "plt.show()"
   ]
  },
  {
   "cell_type": "markdown",
   "id": "3f456001",
   "metadata": {},
   "source": [
    "We will see how we can automate the detection of a suitable reference frame later.\n",
    "\n",
    "First we can also find the velocity trace"
   ]
  },
  {
   "cell_type": "code",
   "execution_count": null,
   "id": "35b893ba",
   "metadata": {},
   "outputs": [],
   "source": [
    "v = opt_flow.get_velocities()\n",
    "v_norm_mean_array = v.norm().mean().compute()\n",
    "\n",
    "time = data.time_stamps[:-1]\n",
    "\n",
    "fig, ax = plt.subplots()\n",
    "ax.plot(time, v_norm_mean_array)\n",
    "ax.set_xlabel(\"Time (s)\")\n",
    "ax.set_ylabel(\"Velocity (\\u00B5m/s)\")\n",
    "plt.show()"
   ]
  },
  {
   "cell_type": "markdown",
   "id": "159180d8",
   "metadata": {},
   "source": [
    "Here it is also worth noting that we have an array that has one less element than the displacement, because the velocity is essentially computing be taking the difference between successive displacements and dividing by the time difference. We could also increase the spacing between the displacement by passing in the spacing argument"
   ]
  },
  {
   "cell_type": "code",
   "execution_count": null,
   "id": "4a814b92-c2bc-4b0a-b289-a00dc36d0a53",
   "metadata": {},
   "outputs": [],
   "source": [
    "v5 = opt_flow.get_velocities(spacing=5)\n",
    "v5_norm_mean_array = v5.norm().mean().compute()\n",
    "\n",
    "time = data.time_stamps[:-5]\n",
    "\n",
    "fig, ax = plt.subplots()\n",
    "ax.plot(time, v5_norm_mean_array)\n",
    "ax.set_xlabel(\"Time (s)\")\n",
    "ax.set_ylabel(\"Velocity (\\u00B5m/s)\")\n",
    "plt.show()"
   ]
  },
  {
   "cell_type": "markdown",
   "id": "80ad4465",
   "metadata": {},
   "source": [
    "As a consequence we get a more smooth signal. Depending on the framerate of the video you are analyzing you might choose different spacing to avoid too much noise in the velocity traces. For this dataset a spacing of 1.0 seems to be appropriate.\n",
    "\n",
    "## Estimating the reference frame\n",
    "We would like to choose a reference frame where the cells are at rest, which would be equivalent to having (close to) zero velocity. For this we have implemented a helper function to achieve just that."
   ]
  },
  {
   "cell_type": "code",
   "execution_count": null,
   "id": "0d0d86f3",
   "metadata": {},
   "outputs": [],
   "source": [
    "ref_index = mps_motion.motion_tracking.estimate_referece_image_from_velocity(t=data.time_stamps[:-1], v=v_norm_mean_array)\n",
    "print(f\"Reference index {ref_index} at time {data.time_stamps[ref_index]}\")\n",
    "type(ref_index)"
   ]
  },
  {
   "cell_type": "markdown",
   "id": "ee9b5459",
   "metadata": {},
   "source": [
    "And we see that it found a reference index of 161 and time 4025"
   ]
  },
  {
   "cell_type": "code",
   "execution_count": null,
   "id": "43dd53f1",
   "metadata": {},
   "outputs": [],
   "source": [
    "fig, ax = plt.subplots()\n",
    "ax.plot(data.time_stamps[:-1], v_norm_mean_array)\n",
    "ax.plot([data.time_stamps[ref_index]], [v_norm_mean_array[ref_index]], \"ro\")\n",
    "ax.set_xlabel(\"Time (s)\")\n",
    "ax.set_ylabel(\"Velocity (\\u00B5m/s)\")\n",
    "plt.show()"
   ]
  },
  {
   "cell_type": "markdown",
   "id": "ebad75e2",
   "metadata": {},
   "source": [
    "And we can now use this reference index instead for the displacement"
   ]
  },
  {
   "cell_type": "code",
   "execution_count": null,
   "id": "6007714a-29be-4597-a4e3-0e9a7535adf2",
   "metadata": {},
   "outputs": [],
   "source": [
    "u = opt_flow.get_displacements(reference_frame=data.time_stamps[ref_index], recompute=True)\n",
    "u_array = u.norm().mean().compute()\n",
    "fig, ax = plt.subplots()\n",
    "ax.plot(data.time_stamps, u_array)\n",
    "ax.set_ylabel(\"Displacement (\\u00B5m)\")\n",
    "ax.set_xlabel(\"Time (s)\")\n",
    "plt.show()"
   ]
  },
  {
   "cell_type": "markdown",
   "id": "f503583c",
   "metadata": {},
   "source": [
    "## Background correction\n",
    "\n",
    "Run running the motion tracking software, some background drift might be cumulated in the resulting displacements. However the displacements at the reference image should be zero. This might lead to a sudden jump in the displacement at the point of reference. To circumvent this, we have an argument called `smooth_ref_transition`, which by default is set to True. If we set this to false, we see this phenomena more clearly"
   ]
  },
  {
   "cell_type": "code",
   "execution_count": null,
   "id": "e9b01487-b7ea-4d3c-8765-fbe26b445855",
   "metadata": {},
   "outputs": [],
   "source": [
    "u_no_smooth = opt_flow.get_displacements(reference_frame=data.time_stamps[ref_index], recompute=True, smooth_ref_transition=False)\n",
    "u_no_smooth_array = u_no_smooth.norm().mean().compute()\n",
    "fig, ax = plt.subplots()\n",
    "ax.plot(data.time_stamps, u_no_smooth_array)\n",
    "ax.set_ylabel(\"Displacement (\\u00B5m)\")\n",
    "ax.set_xlabel(\"Time (s)\")\n",
    "plt.show()"
   ]
  },
  {
   "cell_type": "markdown",
   "id": "c4808a8c",
   "metadata": {},
   "source": [
    "To remove the background from the trace, we can use a [background correction algorithm](https://doi.org/10.1016/j.chemolab.2004.10.003) to first estimate the baseline and then subtract it. This algorithm is implemented in the `ap_features` library"
   ]
  },
  {
   "cell_type": "code",
   "execution_count": null,
   "id": "4caf8eb9",
   "metadata": {},
   "outputs": [],
   "source": [
    "background = apf.background.correct_background(data.time_stamps, u_array, method=\"subtract\")"
   ]
  },
  {
   "cell_type": "code",
   "execution_count": null,
   "id": "90547a96",
   "metadata": {},
   "outputs": [],
   "source": [
    "fig, ax = plt.subplots(1, 2, figsize=(8, 3))\n",
    "ax[0].plot(data.time_stamps, u_array)\n",
    "ax[0].plot(data.time_stamps, background.background)\n",
    "ax[0].set_ylabel(\"Displacement (\\u00B5m)\")\n",
    "ax[0].set_title(\"Original with backgorund\")\n",
    "ax[1].plot(data.time_stamps, background.corrected)\n",
    "ax[1].set_title(\"Corrected\")"
   ]
  },
  {
   "cell_type": "markdown",
   "id": "5b83a3a2",
   "metadata": {},
   "source": [
    "In this base there is not much drift in the signal, but this might occur in other datasets. "
   ]
  }
 ],
 "metadata": {
  "kernelspec": {
   "display_name": "Python 3 (ipykernel)",
   "language": "python",
   "name": "python3"
  },
  "language_info": {
   "codemirror_mode": {
    "name": "ipython",
    "version": 3
   },
   "file_extension": ".py",
   "mimetype": "text/x-python",
   "name": "python",
   "nbconvert_exporter": "python",
   "pygments_lexer": "ipython3",
   "version": "3.11.4"
  }
 },
 "nbformat": 4,
 "nbformat_minor": 5
}
