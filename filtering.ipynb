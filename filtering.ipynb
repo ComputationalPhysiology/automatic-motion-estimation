{
 "cells": [
  {
   "cell_type": "markdown",
   "id": "9a9582b3-1f63-4554-93f1-c8c946d6502d",
   "metadata": {},
   "source": [
    "# Filtering\n",
    "\n",
    "TBW"
   ]
  },
  {
   "cell_type": "code",
   "execution_count": null,
   "id": "8c736063-e22d-4cac-8665-91af7565a47a",
   "metadata": {},
   "outputs": [],
   "source": []
  }
 ],
 "metadata": {
  "kernelspec": {
   "display_name": "Python 3 (ipykernel)",
   "language": "python",
   "name": "python3"
  },
  "language_info": {
   "codemirror_mode": {
    "name": "ipython",
    "version": 3
   },
   "file_extension": ".py",
   "mimetype": "text/x-python",
   "name": "python",
   "nbconvert_exporter": "python",
   "pygments_lexer": "ipython3",
   "version": "3.11.4"
  }
 },
 "nbformat": 4,
 "nbformat_minor": 5
}
