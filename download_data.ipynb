{
 "cells": [
  {
   "cell_type": "markdown",
   "id": "a9a58616-a502-4840-9919-2304299fe9cc",
   "metadata": {},
   "source": [
    "# Download data"
   ]
  },
  {
   "cell_type": "code",
   "execution_count": null,
   "id": "2a6f44e7-2094-451b-b894-877761df750f",
   "metadata": {},
   "outputs": [],
   "source": [
    "import zipfile\n",
    "from pathlib import Path\n",
    "import requests\n",
    "from tqdm import tqdm\n",
    "\n",
    "\n",
    "def download(path, link, desc=None):\n",
    "    if desc is None:\n",
    "        desc = f\"Download data to {path}\"\n",
    "\n",
    "    response = requests.get(link, stream=True)\n",
    "    total_size_in_bytes = int(response.headers.get(\"content-length\", 0))\n",
    "    progress_bar = tqdm(\n",
    "        total=total_size_in_bytes, unit=\"iB\", unit_scale=True, desc=desc\n",
    "    )\n",
    "\n",
    "    with open(path, \"wb\") as handle:\n",
    "        for data in response.iter_content(chunk_size=1000 * 1024):\n",
    "            progress_bar.update(len(data))\n",
    "            handle.write(data)\n",
    "    progress_bar.close()\n",
    "\n",
    "def unzip(path, target_path=None):\n",
    "    if target_path is None:\n",
    "        target_path = Path(path).parent\n",
    "\n",
    "    with zipfile.ZipFile(path, \"r\") as zf:\n",
    "        pbar = tqdm(zf.infolist(), desc=\"Extracting \")\n",
    "        for member in pbar:\n",
    "            pbar.set_description(f\"Extracting {member.filename}\")\n",
    "            try:\n",
    "                zf.extract(member, target_path)\n",
    "            except zipfile.error as e:\n",
    "                print(e)"
   ]
  },
  {
   "cell_type": "code",
   "execution_count": null,
   "id": "c630fee4-5f9d-4086-afe9-669555d93295",
   "metadata": {},
   "outputs": [],
   "source": [
    "datadir = Path(\"data\")\n",
    "datadir.mkdir(exist_ok=True, parents=True)"
   ]
  },
  {
   "cell_type": "code",
   "execution_count": null,
   "id": "da0e4b37-9251-4876-ab9e-c226f458afaa",
   "metadata": {},
   "outputs": [],
   "source": [
    "full_resolution = False"
   ]
  },
  {
   "cell_type": "markdown",
   "id": "6db8f0d3-f35b-48c7-8db7-caa3f72639cf",
   "metadata": {},
   "source": [
    "## Dataset 1"
   ]
  },
  {
   "cell_type": "code",
   "execution_count": null,
   "id": "f5862c76-a1dd-4062-a1e5-15d3e130c079",
   "metadata": {},
   "outputs": [],
   "source": [
    "if full_resolution:\n",
    "    link = \"https://www.dropbox.com/s/xbn29petfkpjf7w/PointH4A_ChannelBF_VC_Seq0018.nd2?dl=1\"\n",
    "    path = datadir / \"PointH4A_ChannelBF_VC_Seq0018.nd2\"\n",
    "else:\n",
    "    path = datadir / \"PointH4A_ChannelBF_VC_Seq0018.npy\"\n",
    "    link = \"https://www.dropbox.com/scl/fi/fah0712a5cbe4karwl9re/PointH4A_ChannelBF_VC_Seq0018.npy?rlkey=tzonmt0f20cj1v9z9yratp9el&dl=1\"\n",
    "\n",
    "download(path=path, link=link)"
   ]
  },
  {
   "cell_type": "markdown",
   "id": "cc5f6156-1e33-4924-b008-d0898466494b",
   "metadata": {},
   "source": [
    "## Bay K8644"
   ]
  },
  {
   "cell_type": "code",
   "execution_count": null,
   "id": "72a7f940-9c63-4087-b57d-ad78c3e86be7",
   "metadata": {},
   "outputs": [],
   "source": []
  }
 ],
 "metadata": {
  "kernelspec": {
   "display_name": "Python 3 (ipykernel)",
   "language": "python",
   "name": "python3"
  },
  "language_info": {
   "codemirror_mode": {
    "name": "ipython",
    "version": 3
   },
   "file_extension": ".py",
   "mimetype": "text/x-python",
   "name": "python",
   "nbconvert_exporter": "python",
   "pygments_lexer": "ipython3",
   "version": "3.11.4"
  }
 },
 "nbformat": 4,
 "nbformat_minor": 5
}
