{
 "cells": [
  {
   "cell_type": "markdown",
   "id": "62b31b26-f09d-4174-8c13-2a4be49b001b",
   "metadata": {},
   "source": [
    "# Drug effects\n",
    "\n",
    "TBW"
   ]
  },
  {
   "cell_type": "code",
   "execution_count": null,
   "id": "f36f8b9c-9333-43ec-ba1e-225debc59f9b",
   "metadata": {},
   "outputs": [],
   "source": []
  }
 ],
 "metadata": {
  "kernelspec": {
   "display_name": "Python 3 (ipykernel)",
   "language": "python",
   "name": "python3"
  },
  "language_info": {
   "codemirror_mode": {
    "name": "ipython",
    "version": 3
   },
   "file_extension": ".py",
   "mimetype": "text/x-python",
   "name": "python",
   "nbconvert_exporter": "python",
   "pygments_lexer": "ipython3",
   "version": "3.11.4"
  }
 },
 "nbformat": 4,
 "nbformat_minor": 5
}
