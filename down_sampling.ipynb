{
 "cells": [
  {
   "cell_type": "markdown",
   "id": "f388c8f1-314c-4c1b-8bd7-0772a4116f3e",
   "metadata": {},
   "source": [
    "# Down sampling\n",
    "\n",
    "TBW"
   ]
  },
  {
   "cell_type": "code",
   "execution_count": null,
   "id": "bd6b4270-34c1-43e8-a111-bf475ef81940",
   "metadata": {},
   "outputs": [],
   "source": []
  }
 ],
 "metadata": {
  "kernelspec": {
   "display_name": "Python 3 (ipykernel)",
   "language": "python",
   "name": "python3"
  },
  "language_info": {
   "codemirror_mode": {
    "name": "ipython",
    "version": 3
   },
   "file_extension": ".py",
   "mimetype": "text/x-python",
   "name": "python",
   "nbconvert_exporter": "python",
   "pygments_lexer": "ipython3",
   "version": "3.11.4"
  }
 },
 "nbformat": 4,
 "nbformat_minor": 5
}
